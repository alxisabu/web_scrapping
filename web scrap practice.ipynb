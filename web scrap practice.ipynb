{
 "cells": [
  {
   "cell_type": "code",
   "execution_count": 4,
   "metadata": {},
   "outputs": [],
   "source": [
    "import requests\n",
    "from bs4 import BeautifulSoup\n",
    "import csv"
   ]
  },
  {
   "cell_type": "code",
   "execution_count": 5,
   "metadata": {},
   "outputs": [],
   "source": [
    "response = requests.get(\"https://en.wikipedia.org/wiki/List_of_most-followed_Facebook_pages\")"
   ]
  },
  {
   "cell_type": "code",
   "execution_count": 6,
   "metadata": {},
   "outputs": [
    {
     "data": {
      "text/plain": [
       "200"
      ]
     },
     "execution_count": 6,
     "metadata": {},
     "output_type": "execute_result"
    }
   ],
   "source": [
    "response.status_code"
   ]
  },
  {
   "cell_type": "code",
   "execution_count": 7,
   "metadata": {},
   "outputs": [],
   "source": [
    "most = BeautifulSoup(response.content , \"lxml\")"
   ]
  },
  {
   "cell_type": "code",
   "execution_count": 8,
   "metadata": {},
   "outputs": [
    {
     "data": {
      "text/plain": [
       "'List of most-followed Facebook pages - Wikipedia'"
      ]
     },
     "execution_count": 8,
     "metadata": {},
     "output_type": "execute_result"
    }
   ],
   "source": [
    "most.title.text"
   ]
  },
  {
   "cell_type": "code",
   "execution_count": 9,
   "metadata": {},
   "outputs": [],
   "source": [
    "tables = most.find_all(\"table\")"
   ]
  },
  {
   "cell_type": "code",
   "execution_count": 10,
   "metadata": {},
   "outputs": [],
   "source": [
    "table = tables[0]"
   ]
  },
  {
   "cell_type": "code",
   "execution_count": 11,
   "metadata": {},
   "outputs": [],
   "source": [
    "rows = table.find_all(\"tr\")"
   ]
  },
  {
   "cell_type": "code",
   "execution_count": 12,
   "metadata": {},
   "outputs": [
    {
     "data": {
      "text/plain": [
       "27"
      ]
     },
     "execution_count": 12,
     "metadata": {},
     "output_type": "execute_result"
    }
   ],
   "source": [
    "len(rows)"
   ]
  },
  {
   "cell_type": "code",
   "execution_count": 108,
   "metadata": {},
   "outputs": [
    {
     "data": {
      "text/plain": [
       "<tr>\n",
       "<th colspan=\"7\" style=\"text-align:center; font-size:8pt;\">As of July 1, 2019<sup class=\"plainlinks noexcerpt noprint asof-tag update\" style=\"display:none;\"><a class=\"external text\" href=\"https://en.wikipedia.org/w/index.php?title=List_of_most-followed_Facebook_pages&amp;action=edit\">[update]</a></sup>\n",
       "</th></tr>"
      ]
     },
     "execution_count": 108,
     "metadata": {},
     "output_type": "execute_result"
    }
   ],
   "source": [
    "rows[-1]"
   ]
  },
  {
   "cell_type": "code",
   "execution_count": 13,
   "metadata": {},
   "outputs": [],
   "source": [
    "raw_columns, raw_datas = rows[0], rows[1:]"
   ]
  },
  {
   "cell_type": "code",
   "execution_count": 17,
   "metadata": {},
   "outputs": [],
   "source": [
    "# columns = [data.text for data in raw_columns.find_all(\"th\")]"
   ]
  },
  {
   "cell_type": "code",
   "execution_count": 18,
   "metadata": {},
   "outputs": [
    {
     "data": {
      "text/plain": [
       "<tr>\n",
       "<th>Rank\n",
       "</th>\n",
       "<th>Account name\n",
       "</th>\n",
       "<th>Followers<br/>(millions)\n",
       "</th>\n",
       "<th>Profession\n",
       "</th>\n",
       "<th>Country\n",
       "</th></tr>"
      ]
     },
     "execution_count": 18,
     "metadata": {},
     "output_type": "execute_result"
    }
   ],
   "source": [
    "raw_columns"
   ]
  },
  {
   "cell_type": "code",
   "execution_count": 19,
   "metadata": {},
   "outputs": [
    {
     "data": {
      "text/plain": [
       "26"
      ]
     },
     "execution_count": 19,
     "metadata": {},
     "output_type": "execute_result"
    }
   ],
   "source": [
    "len(raw_datas)"
   ]
  },
  {
   "cell_type": "code",
   "execution_count": 22,
   "metadata": {},
   "outputs": [],
   "source": [
    "columns = [data.text for data in raw_columns.find_all(\"th\")]"
   ]
  },
  {
   "cell_type": "code",
   "execution_count": 23,
   "metadata": {},
   "outputs": [
    {
     "data": {
      "text/plain": [
       "['Rank\\n',\n",
       " 'Account name\\n',\n",
       " 'Followers(millions)\\n',\n",
       " 'Profession\\n',\n",
       " 'Country\\n']"
      ]
     },
     "execution_count": 23,
     "metadata": {},
     "output_type": "execute_result"
    }
   ],
   "source": [
    "columns"
   ]
  },
  {
   "cell_type": "code",
   "execution_count": 29,
   "metadata": {},
   "outputs": [
    {
     "name": "stdout",
     "output_type": "stream",
     "text": [
      "Rank\n",
      "\n",
      "Account name\n",
      "\n",
      "Followers(millions)\n",
      "\n",
      "Profession\n",
      "\n",
      "Country\n",
      "\n"
     ]
    }
   ],
   "source": [
    "for data in raw_columns.find_all(\"th\"):\n",
    "    print(data.text)"
   ]
  },
  {
   "cell_type": "code",
   "execution_count": 30,
   "metadata": {},
   "outputs": [],
   "source": [
    "# datas = table.find_all(\"tbody\")\n",
    "datas = [[td.text for td in tr.find_all(\"td\")] for tr in raw_datas]"
   ]
  },
  {
   "cell_type": "code",
   "execution_count": 31,
   "metadata": {},
   "outputs": [
    {
     "data": {
      "text/plain": [
       "[['Facebook\\n', '214\\n', 'Social media\\n', '\\xa0USA\\n'],\n",
       " ['Samsung\\n', '162\\n', 'Product and services\\n', '\\xa0KOR\\n'],\n",
       " ['Cristiano Ronaldo\\n', '122\\n', 'Football Player\\n', '\\xa0POR\\n'],\n",
       " ['Real Madrid C.F.\\n', '110\\n', 'Football club\\n', '\\xa0ESP\\n'],\n",
       " ['Coca-Cola\\n', '107\\n', 'Product and services\\n', '\\xa0USA\\n'],\n",
       " ['FC Barcelona\\n', '103\\n', 'Football club\\n', '\\xa0ESP\\n'],\n",
       " ['Shakira\\n', '101\\n', 'Musician\\n', '\\xa0COL\\n'],\n",
       " ['Vin Diesel\\n', '97\\n', 'Actor\\n', '\\xa0USA\\n'],\n",
       " ['Tasty\\n', '97\\n', 'Internet media\\n', '\\xa0USA\\n'],\n",
       " ['Lionel Messi\\n', '90\\n', 'Football Player\\n', '\\xa0ARG\\n'],\n",
       " ['Mr. Bean\\n', '88\\n', 'Public figure\\n', '\\xa0UK\\n'],\n",
       " ['Eminem\\n', '87\\n', 'Musician\\n', '\\xa0USA\\n'],\n",
       " ['YouTube\\n', '83\\n', 'Product and services\\n', '\\xa0USA\\n'],\n",
       " [\"McDonald's\\n\", '79\\n', 'Product and services\\n', '\\xa0USA\\n'],\n",
       " ['Rihanna\\n', '79\\n', 'Musician\\n', '\\xa0BAR\\n'],\n",
       " ['Will Smith\\n', '77\\n', 'Actor\\n', '\\xa0USA\\n'],\n",
       " ['Justin Bieber\\n', '76\\n', 'Musician\\n', '\\xa0CAN\\n'],\n",
       " ['China Daily\\n', '84\\n', 'Newspaper\\n', '\\xa0CHN\\n'],\n",
       " ['Manchester United\\n', '73\\n', 'Football club\\n', '\\xa0UK\\n'],\n",
       " ['Harry Potter\\n', '72\\n', 'Fictional Character\\n', '\\xa0UK\\n'],\n",
       " ['Michael Jackson\\n', '72\\n', 'Musician\\n', '\\xa0USA\\n'],\n",
       " ['Taylor Swift\\n', '71\\n', 'Musician\\n', '\\xa0USA\\n'],\n",
       " ['Bob Marley\\n', '70\\n', 'Musician\\n', '\\xa0JAM\\n'],\n",
       " ['Katy Perry\\n', '67\\n', 'Musician\\n', '\\xa0USA\\n'],\n",
       " ['Adele\\n', '62\\n', 'Musician\\n', '\\xa0UK\\n'],\n",
       " []]"
      ]
     },
     "execution_count": 31,
     "metadata": {},
     "output_type": "execute_result"
    }
   ],
   "source": [
    "datas"
   ]
  },
  {
   "cell_type": "code",
   "execution_count": 33,
   "metadata": {},
   "outputs": [
    {
     "data": {
      "text/plain": [
       "['Rank\\n',\n",
       " 'Account name\\n',\n",
       " 'Followers(millions)\\n',\n",
       " 'Profession\\n',\n",
       " 'Country\\n']"
      ]
     },
     "execution_count": 33,
     "metadata": {},
     "output_type": "execute_result"
    }
   ],
   "source": [
    "columns"
   ]
  },
  {
   "cell_type": "code",
   "execution_count": 34,
   "metadata": {},
   "outputs": [],
   "source": [
    "datas = [dict(zip(columns, row)) for row in datas]"
   ]
  },
  {
   "cell_type": "code",
   "execution_count": 35,
   "metadata": {},
   "outputs": [
    {
     "data": {
      "text/plain": [
       "[{'Rank\\n': 'Facebook\\n',\n",
       "  'Account name\\n': '214\\n',\n",
       "  'Followers(millions)\\n': 'Social media\\n',\n",
       "  'Profession\\n': '\\xa0USA\\n'},\n",
       " {'Rank\\n': 'Samsung\\n',\n",
       "  'Account name\\n': '162\\n',\n",
       "  'Followers(millions)\\n': 'Product and services\\n',\n",
       "  'Profession\\n': '\\xa0KOR\\n'},\n",
       " {'Rank\\n': 'Cristiano Ronaldo\\n',\n",
       "  'Account name\\n': '122\\n',\n",
       "  'Followers(millions)\\n': 'Football Player\\n',\n",
       "  'Profession\\n': '\\xa0POR\\n'},\n",
       " {'Rank\\n': 'Real Madrid C.F.\\n',\n",
       "  'Account name\\n': '110\\n',\n",
       "  'Followers(millions)\\n': 'Football club\\n',\n",
       "  'Profession\\n': '\\xa0ESP\\n'},\n",
       " {'Rank\\n': 'Coca-Cola\\n',\n",
       "  'Account name\\n': '107\\n',\n",
       "  'Followers(millions)\\n': 'Product and services\\n',\n",
       "  'Profession\\n': '\\xa0USA\\n'},\n",
       " {'Rank\\n': 'FC Barcelona\\n',\n",
       "  'Account name\\n': '103\\n',\n",
       "  'Followers(millions)\\n': 'Football club\\n',\n",
       "  'Profession\\n': '\\xa0ESP\\n'},\n",
       " {'Rank\\n': 'Shakira\\n',\n",
       "  'Account name\\n': '101\\n',\n",
       "  'Followers(millions)\\n': 'Musician\\n',\n",
       "  'Profession\\n': '\\xa0COL\\n'},\n",
       " {'Rank\\n': 'Vin Diesel\\n',\n",
       "  'Account name\\n': '97\\n',\n",
       "  'Followers(millions)\\n': 'Actor\\n',\n",
       "  'Profession\\n': '\\xa0USA\\n'},\n",
       " {'Rank\\n': 'Tasty\\n',\n",
       "  'Account name\\n': '97\\n',\n",
       "  'Followers(millions)\\n': 'Internet media\\n',\n",
       "  'Profession\\n': '\\xa0USA\\n'},\n",
       " {'Rank\\n': 'Lionel Messi\\n',\n",
       "  'Account name\\n': '90\\n',\n",
       "  'Followers(millions)\\n': 'Football Player\\n',\n",
       "  'Profession\\n': '\\xa0ARG\\n'},\n",
       " {'Rank\\n': 'Mr. Bean\\n',\n",
       "  'Account name\\n': '88\\n',\n",
       "  'Followers(millions)\\n': 'Public figure\\n',\n",
       "  'Profession\\n': '\\xa0UK\\n'},\n",
       " {'Rank\\n': 'Eminem\\n',\n",
       "  'Account name\\n': '87\\n',\n",
       "  'Followers(millions)\\n': 'Musician\\n',\n",
       "  'Profession\\n': '\\xa0USA\\n'},\n",
       " {'Rank\\n': 'YouTube\\n',\n",
       "  'Account name\\n': '83\\n',\n",
       "  'Followers(millions)\\n': 'Product and services\\n',\n",
       "  'Profession\\n': '\\xa0USA\\n'},\n",
       " {'Rank\\n': \"McDonald's\\n\",\n",
       "  'Account name\\n': '79\\n',\n",
       "  'Followers(millions)\\n': 'Product and services\\n',\n",
       "  'Profession\\n': '\\xa0USA\\n'},\n",
       " {'Rank\\n': 'Rihanna\\n',\n",
       "  'Account name\\n': '79\\n',\n",
       "  'Followers(millions)\\n': 'Musician\\n',\n",
       "  'Profession\\n': '\\xa0BAR\\n'},\n",
       " {'Rank\\n': 'Will Smith\\n',\n",
       "  'Account name\\n': '77\\n',\n",
       "  'Followers(millions)\\n': 'Actor\\n',\n",
       "  'Profession\\n': '\\xa0USA\\n'},\n",
       " {'Rank\\n': 'Justin Bieber\\n',\n",
       "  'Account name\\n': '76\\n',\n",
       "  'Followers(millions)\\n': 'Musician\\n',\n",
       "  'Profession\\n': '\\xa0CAN\\n'},\n",
       " {'Rank\\n': 'China Daily\\n',\n",
       "  'Account name\\n': '84\\n',\n",
       "  'Followers(millions)\\n': 'Newspaper\\n',\n",
       "  'Profession\\n': '\\xa0CHN\\n'},\n",
       " {'Rank\\n': 'Manchester United\\n',\n",
       "  'Account name\\n': '73\\n',\n",
       "  'Followers(millions)\\n': 'Football club\\n',\n",
       "  'Profession\\n': '\\xa0UK\\n'},\n",
       " {'Rank\\n': 'Harry Potter\\n',\n",
       "  'Account name\\n': '72\\n',\n",
       "  'Followers(millions)\\n': 'Fictional Character\\n',\n",
       "  'Profession\\n': '\\xa0UK\\n'},\n",
       " {'Rank\\n': 'Michael Jackson\\n',\n",
       "  'Account name\\n': '72\\n',\n",
       "  'Followers(millions)\\n': 'Musician\\n',\n",
       "  'Profession\\n': '\\xa0USA\\n'},\n",
       " {'Rank\\n': 'Taylor Swift\\n',\n",
       "  'Account name\\n': '71\\n',\n",
       "  'Followers(millions)\\n': 'Musician\\n',\n",
       "  'Profession\\n': '\\xa0USA\\n'},\n",
       " {'Rank\\n': 'Bob Marley\\n',\n",
       "  'Account name\\n': '70\\n',\n",
       "  'Followers(millions)\\n': 'Musician\\n',\n",
       "  'Profession\\n': '\\xa0JAM\\n'},\n",
       " {'Rank\\n': 'Katy Perry\\n',\n",
       "  'Account name\\n': '67\\n',\n",
       "  'Followers(millions)\\n': 'Musician\\n',\n",
       "  'Profession\\n': '\\xa0USA\\n'},\n",
       " {'Rank\\n': 'Adele\\n',\n",
       "  'Account name\\n': '62\\n',\n",
       "  'Followers(millions)\\n': 'Musician\\n',\n",
       "  'Profession\\n': '\\xa0UK\\n'},\n",
       " {}]"
      ]
     },
     "execution_count": 35,
     "metadata": {},
     "output_type": "execute_result"
    }
   ],
   "source": [
    "datas"
   ]
  },
  {
   "cell_type": "code",
   "execution_count": 40,
   "metadata": {},
   "outputs": [],
   "source": [
    "with open(\"noor_ranking.csv\", \"w\", newline=\"\") as write_zips:\n",
    "    writer = csv.DictWriter(write_zips, fieldnames=columns)\n",
    "    writer.writeheader()\n",
    "    writer.writerows(datas)"
   ]
  },
  {
   "cell_type": "code",
   "execution_count": 41,
   "metadata": {},
   "outputs": [],
   "source": [
    "less noor_ranking.csv"
   ]
  },
  {
   "cell_type": "code",
   "execution_count": null,
   "metadata": {},
   "outputs": [],
   "source": []
  },
  {
   "cell_type": "code",
   "execution_count": null,
   "metadata": {},
   "outputs": [],
   "source": []
  }
 ],
 "metadata": {
  "kernelspec": {
   "display_name": "Python 3",
   "language": "python",
   "name": "python3"
  },
  "language_info": {
   "codemirror_mode": {
    "name": "ipython",
    "version": 3
   },
   "file_extension": ".py",
   "mimetype": "text/x-python",
   "name": "python",
   "nbconvert_exporter": "python",
   "pygments_lexer": "ipython3",
   "version": "3.7.4"
  }
 },
 "nbformat": 4,
 "nbformat_minor": 2
}
